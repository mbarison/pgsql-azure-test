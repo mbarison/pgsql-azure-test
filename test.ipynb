{
 "cells": [
  {
   "attachments": {},
   "cell_type": "markdown",
   "id": "84e12610",
   "metadata": {},
   "source": [
    "# GeoAlchemy2 ORM Test\n",
    "\n",
    "Source: [https://geoalchemy-2.readthedocs.io/en/latest/orm_tutorial.html](https://geoalchemy-2.readthedocs.io/en/latest/orm_tutorial.html)"
   ]
  },
  {
   "cell_type": "code",
   "execution_count": null,
   "id": "b6ab2b97",
   "metadata": {},
   "outputs": [],
   "source": [
    "import psycopg2, yaml\n",
    "\n",
    "with open(\"config.yaml\", \"r\") as f:\n",
    "    config = yaml.safe_load(f)\n",
    "\n",
    "conn_string = \"host=%(SERVER)s user=%(USERNAME)s dbname=%(DATABASE)s password=%(PASSWORD)s sslmode=%(SSLMODE)s\" % config\n",
    "conn = psycopg2.connect(conn_string) \n",
    "print(\"Connection established\")"
   ]
  },
  {
   "attachments": {},
   "cell_type": "markdown",
   "id": "96438dbe",
   "metadata": {},
   "source": [
    "## Connect to the DB"
   ]
  },
  {
   "cell_type": "code",
   "execution_count": null,
   "id": "40b4f818",
   "metadata": {},
   "outputs": [],
   "source": [
    "from sqlalchemy import create_engine\n",
    "\n",
    "engine = create_engine(\n",
    "    \"postgresql+psycopg2://%(USERNAME)s:%(PASSWORD)s@%(SERVER)s/%(DATABASE)s?sslmode=%(SSLMODE)s\" % config,\n",
    "    client_encoding=\"utf8\", \n",
    "    echo=True\n",
    ")"
   ]
  },
  {
   "attachments": {},
   "cell_type": "markdown",
   "id": "13b1a384",
   "metadata": {},
   "source": [
    "## Declare a Mapping\n",
    "\n",
    "We will try to map the CSD digital boundary files "
   ]
  },
  {
   "cell_type": "code",
   "execution_count": null,
   "id": "079aa064",
   "metadata": {},
   "outputs": [],
   "source": [
    "from sqlalchemy.orm import declarative_base\n",
    "from sqlalchemy import Column, Integer, String, Float\n",
    "from geoalchemy2 import Geometry\n",
    "\n",
    "Base = declarative_base()\n",
    "\n",
    "class CSDTable(Base):\n",
    "    __tablename__ = \"CSD_DBF_2021\"\n",
    "    DGUID = Column(String, primary_key=True)\n",
    "    CSDUID = Column(Integer)\n",
    "    CSDNAME = Column(String)\n",
    "    CSDTYPE = Column(String)\n",
    "    LANDAREA = Column(Float)\n",
    "    geometry = Column(Geometry('POLYGON'))"
   ]
  },
  {
   "cell_type": "code",
   "execution_count": null,
   "id": "6753bf86",
   "metadata": {},
   "outputs": [],
   "source": [
    "import geopandas as gpd\n",
    "import os\n",
    "\n",
    "# import the 2021 Digital Boundary File\n",
    "csd_dbf = gpd.read_file(os.path.join(os.path.abspath(\"\"), \"data\", \"lcsd000a21a_e.zip\"))\n",
    "\n",
    "# project to lat/lon\n",
    "\n",
    "csd_dbf = csd_dbf.to_crs(\"epsg:4326\")\n",
    "\n",
    "csd_dbf[\"CSDUID\"] = csd_dbf[\"CSDUID\"].astype(int) \n",
    "csd_dbf[\"PRUID\"]  = csd_dbf[\"PRUID\"].astype(int)\n",
    "csd_dbf[\"LANDAREA\"]  = csd_dbf[\"LANDAREA\"].astype(float)\n",
    "\n",
    "csd_dbf"
   ]
  },
  {
   "cell_type": "code",
   "execution_count": null,
   "id": "36cf21d6",
   "metadata": {},
   "outputs": [],
   "source": [
    "csd_dbf.info()"
   ]
  }
 ],
 "metadata": {
  "kernelspec": {
   "display_name": "Python 3.7.9 64-bit",
   "language": "python",
   "name": "python3"
  },
  "language_info": {
   "codemirror_mode": {
    "name": "ipython",
    "version": 3
   },
   "file_extension": ".py",
   "mimetype": "text/x-python",
   "name": "python",
   "nbconvert_exporter": "python",
   "pygments_lexer": "ipython3",
   "version": "3.9.7"
  },
  "vscode": {
   "interpreter": {
    "hash": "eb4cdb330c5ea7232880705c0e79ad22649a7c708042624124f8ff95c4dc218f"
   }
  }
 },
 "nbformat": 4,
 "nbformat_minor": 5
}
