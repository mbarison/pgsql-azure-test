{
 "cells": [
  {
   "attachments": {},
   "cell_type": "markdown",
   "id": "84e12610",
   "metadata": {},
   "source": [
    "# GeoAlchemy2 ORM Test -- Import ODHF\n",
    "\n",
    "Source: [https://geoalchemy-2.readthedocs.io/en/latest/orm_tutorial.html](https://geoalchemy-2.readthedocs.io/en/latest/orm_tutorial.html)"
   ]
  },
  {
   "cell_type": "code",
   "execution_count": null,
   "id": "b6ab2b97",
   "metadata": {},
   "outputs": [],
   "source": [
    "# read configuration\n",
    "import psycopg2, yaml\n",
    "\n",
    "with open(\"config.yaml\", \"r\") as f:\n",
    "    config = yaml.safe_load(f)\n",
    "\n",
    "#conn_string = \"host=%(SERVER)s user=%(USERNAME)s dbname=%(DATABASE)s password=%(PASSWORD)s sslmode=%(SSLMODE)s\" % config\n",
    "#conn = psycopg2.connect(conn_string) \n",
    "#print(\"Connection established\")\n",
    "\n",
    "\n",
    "# Some psycopg2 intialization\n",
    "\n",
    "from register_adapters import register_adapters\n",
    "\n",
    "register_adapters()"
   ]
  },
  {
   "attachments": {},
   "cell_type": "markdown",
   "id": "96438dbe",
   "metadata": {},
   "source": [
    "## Connect to the DB"
   ]
  },
  {
   "cell_type": "code",
   "execution_count": null,
   "id": "40b4f818",
   "metadata": {},
   "outputs": [],
   "source": [
    "from sqlalchemy import create_engine\n",
    "\n",
    "engine = create_engine(\n",
    "    \"postgresql+psycopg2://%(USERNAME)s:%(PASSWORD)s@%(SERVER)s/%(DATABASE)s?sslmode=%(SSLMODE)s\" % config,\n",
    "    client_encoding=\"utf8\", \n",
    "    echo=True\n",
    ")"
   ]
  },
  {
   "attachments": {},
   "cell_type": "markdown",
   "id": "13b1a384",
   "metadata": {},
   "source": [
    "## Declare a Mapping\n",
    "\n",
    "We will try to map the CSD digital boundary files "
   ]
  },
  {
   "cell_type": "code",
   "execution_count": null,
   "id": "079aa064",
   "metadata": {},
   "outputs": [],
   "source": [
    "import sys, os\n",
    "sys.path.insert(0, os.path.join(os.path.abspath(\"\"), \"models\"))\n",
    "\n",
    "from models import HealthFacility"
   ]
  },
  {
   "cell_type": "markdown",
   "id": "3e33efbb",
   "metadata": {},
   "source": [
    "## Create the Table in the Database"
   ]
  },
  {
   "cell_type": "code",
   "execution_count": null,
   "id": "9cf144e5",
   "metadata": {},
   "outputs": [],
   "source": [
    "try:\n",
    "    HealthFacility.__table__.drop(engine)\n",
    "except:\n",
    "    pass\n",
    "\n",
    "HealthFacility.__table__.create(engine)"
   ]
  },
  {
   "cell_type": "code",
   "execution_count": null,
   "id": "6753bf86",
   "metadata": {},
   "outputs": [],
   "source": [
    "import pandas as pd\n",
    "import os, zipfile\n",
    "\n",
    "zf = zipfile.ZipFile(os.path.join(os.path.abspath(\"\"), \"data\", \"ODHF_v1.1.zip\")) \n",
    "df = pd.read_csv(zf.open('ODHF_v1.1/odhf_v1.1.csv'), encoding=\"cp1252\",keep_default_na=False)\n",
    "\n",
    "\"\"\"\n",
    "df.Full_Addr = df.Full_Addr.astype(str)\n",
    "df.Unit = df.Unit.astype(str)\n",
    "df.Street_No = df.Street_No.astype(str)\n",
    "df.Street_Name = df.Street_Name.astype(str)\n",
    "df.City = df.City.astype(str)\n",
    "df.Prov_Terr = df.Prov_Terr.astype(str)\n",
    "df.Postal_Code = df.Postal_Code.astype(str)\n",
    "\"\"\"\n",
    "\n",
    "print(df.info())\n",
    "\n",
    "df = df[(df.latitude != \"..\") & (df.longitude != \"..\") & (df.latitude != \"\") & (df.longitude != \"\")]\n",
    "\n",
    "df"
   ]
  },
  {
   "cell_type": "code",
   "execution_count": null,
   "id": "36cf21d6",
   "metadata": {},
   "outputs": [],
   "source": [
    "df.odhf_facility_type.unique()"
   ]
  },
  {
   "cell_type": "markdown",
   "id": "872c6259",
   "metadata": {},
   "source": [
    "## Create a Session"
   ]
  },
  {
   "cell_type": "code",
   "execution_count": null,
   "id": "41529320",
   "metadata": {},
   "outputs": [],
   "source": [
    "from sqlalchemy.orm import sessionmaker\n",
    "\n",
    "Session = sessionmaker(bind=engine)\n",
    "\n",
    "session = Session()\n"
   ]
  },
  {
   "cell_type": "code",
   "execution_count": null,
   "id": "5174fbbd",
   "metadata": {},
   "outputs": [],
   "source": [
    "from uuid import uuid4\n",
    "\n",
    "# helper function to create table entries from GeoDataFrame\n",
    "def insert_health(session, x):\n",
    "\n",
    "    row = HealthFacility( \n",
    "                index = uuid4(),\n",
    "                facility_name = x.facility_name.strip(),\n",
    "                facility_type = x.odhf_facility_type.lower().strip(),\n",
    "                full_addr = x.source_format_str_address.strip(),   \n",
    "                unit = x.unit.strip(),      \n",
    "                street_no = x.street_no.strip(),   \n",
    "                street_name = x.street_name.strip(),\n",
    "                city = x.city.strip(),           \n",
    "                province = x.province.strip(),    \n",
    "                postal_code = x.postal_code.strip(),\n",
    "                geometry = 'POINT(%s %s)' % (x.longitude, x.latitude)\n",
    "                )\n",
    "\n",
    "\n",
    "    session.add(row)\n",
    "\n",
    "\n",
    "session.rollback()\n",
    "\n",
    "df.apply(lambda x: insert_health(session, x), axis=1)\n",
    "\n",
    "# commit changes\n",
    "session.commit()"
   ]
  },
  {
   "cell_type": "markdown",
   "id": "76b68d60",
   "metadata": {},
   "source": [
    "## Query"
   ]
  },
  {
   "cell_type": "code",
   "execution_count": null,
   "id": "de631e49",
   "metadata": {},
   "outputs": [],
   "source": [
    "# Get all health facilities\n",
    "hf_list = session.query(HealthFacility).order_by(HealthFacility.facility_name).all()\n",
    "\n",
    "for i in hf_list[:10]:\n",
    "    print(i.facility_name, i.facility_type, i.full_addr, i.CSD.CSDUID, i.CSD.name)\n"
   ]
  }
 ],
 "metadata": {
  "kernelspec": {
   "display_name": "Python 3.7.9 64-bit",
   "language": "python",
   "name": "python3"
  },
  "language_info": {
   "codemirror_mode": {
    "name": "ipython",
    "version": 3
   },
   "file_extension": ".py",
   "mimetype": "text/x-python",
   "name": "python",
   "nbconvert_exporter": "python",
   "pygments_lexer": "ipython3",
   "version": "3.7.9"
  },
  "vscode": {
   "interpreter": {
    "hash": "eb4cdb330c5ea7232880705c0e79ad22649a7c708042624124f8ff95c4dc218f"
   }
  }
 },
 "nbformat": 4,
 "nbformat_minor": 5
}
