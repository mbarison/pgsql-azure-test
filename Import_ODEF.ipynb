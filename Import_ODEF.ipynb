{
 "cells": [
  {
   "attachments": {},
   "cell_type": "markdown",
   "id": "84e12610",
   "metadata": {},
   "source": [
    "# GeoAlchemy2 ORM Test -- Import ODEF\n",
    "\n",
    "Source: [https://geoalchemy-2.readthedocs.io/en/latest/orm_tutorial.html](https://geoalchemy-2.readthedocs.io/en/latest/orm_tutorial.html)"
   ]
  },
  {
   "cell_type": "code",
   "execution_count": null,
   "id": "b6ab2b97",
   "metadata": {},
   "outputs": [],
   "source": [
    "# read configuration\n",
    "import psycopg2, yaml\n",
    "\n",
    "with open(\"config.yaml\", \"r\") as f:\n",
    "    config = yaml.safe_load(f)\n",
    "\n",
    "#conn_string = \"host=%(SERVER)s user=%(USERNAME)s dbname=%(DATABASE)s password=%(PASSWORD)s sslmode=%(SSLMODE)s\" % config\n",
    "#conn = psycopg2.connect(conn_string) \n",
    "#print(\"Connection established\")\n",
    "\n",
    "\n",
    "# Some psycopg2 intialization\n",
    "\n",
    "from register_adapters import register_adapters\n",
    "\n",
    "register_adapters()"
   ]
  },
  {
   "attachments": {},
   "cell_type": "markdown",
   "id": "96438dbe",
   "metadata": {},
   "source": [
    "## Connect to the DB"
   ]
  },
  {
   "cell_type": "code",
   "execution_count": null,
   "id": "40b4f818",
   "metadata": {},
   "outputs": [],
   "source": [
    "from sqlalchemy import create_engine\n",
    "\n",
    "engine = create_engine(\n",
    "    \"postgresql+psycopg2://%(USERNAME)s:%(PASSWORD)s@%(SERVER)s/%(DATABASE)s?sslmode=%(SSLMODE)s\" % config,\n",
    "    client_encoding=\"utf8\", \n",
    "    echo=True\n",
    ")"
   ]
  },
  {
   "attachments": {},
   "cell_type": "markdown",
   "id": "13b1a384",
   "metadata": {},
   "source": [
    "## Declare a Mapping\n",
    "\n",
    "We will try to map the CSD digital boundary files "
   ]
  },
  {
   "cell_type": "code",
   "execution_count": null,
   "id": "079aa064",
   "metadata": {},
   "outputs": [],
   "source": [
    "# TODO: import models from external file\n",
    "# references:\n",
    "# - https://docs.pylonsproject.org/projects/pyramid_cookbook/en/latest/database/sqlalchemy.html#importing-all-sqlalchemy-models\n",
    "# - https://stackoverflow.com/questions/9088957/sqlalchemy-cannot-find-a-class-name\n",
    "\n",
    "\n",
    "import sys, os\n",
    "sys.path.insert(0, os.path.join(os.path.abspath(\"\"), \"models\"))\n",
    "\n",
    "from models import EducationalFacility"
   ]
  },
  {
   "cell_type": "markdown",
   "id": "3e33efbb",
   "metadata": {},
   "source": [
    "## Create the Table in the Database"
   ]
  },
  {
   "cell_type": "code",
   "execution_count": null,
   "id": "9cf144e5",
   "metadata": {},
   "outputs": [],
   "source": [
    "try:\n",
    "    EducationalFacility.__table__.drop(engine)\n",
    "except:\n",
    "    pass\n",
    "\n",
    "EducationalFacility.__table__.create(engine)"
   ]
  },
  {
   "cell_type": "code",
   "execution_count": null,
   "id": "6753bf86",
   "metadata": {},
   "outputs": [],
   "source": [
    "import pandas as pd\n",
    "import os, zipfile\n",
    "\n",
    "zf = zipfile.ZipFile(os.path.join(os.path.abspath(\"\"), \"data\", \"ODEF_v2.1_EN.zip\")) \n",
    "df = pd.read_csv(zf.open('ODEF_v2.1_EN/ODEF_v2_1.csv'), encoding=\"cp1252\",keep_default_na=False)\n",
    "\n",
    "df.Full_Addr = df.Full_Addr.astype(str)\n",
    "df.Unit = df.Unit.astype(str)\n",
    "df.Street_No = df.Street_No.astype(str)\n",
    "df.Street_Name = df.Street_Name.astype(str)\n",
    "df.City = df.City.astype(str)\n",
    "df.Prov_Terr = df.Prov_Terr.astype(str)\n",
    "df.Postal_Code = df.Postal_Code.astype(str)\n",
    "\n",
    "print(df.info())\n",
    "\n",
    "df = df[(df.Latitude != \"..\") & (df.Longitude != \"..\")]"
   ]
  },
  {
   "cell_type": "code",
   "execution_count": null,
   "id": "36cf21d6",
   "metadata": {},
   "outputs": [],
   "source": [
    "df.Facility_Type.unique()"
   ]
  },
  {
   "cell_type": "markdown",
   "id": "872c6259",
   "metadata": {},
   "source": [
    "## Create a Session"
   ]
  },
  {
   "cell_type": "code",
   "execution_count": null,
   "id": "41529320",
   "metadata": {},
   "outputs": [],
   "source": [
    "from sqlalchemy.orm import sessionmaker\n",
    "\n",
    "Session = sessionmaker(bind=engine)\n",
    "\n",
    "session = Session()\n"
   ]
  },
  {
   "cell_type": "code",
   "execution_count": null,
   "id": "5174fbbd",
   "metadata": {},
   "outputs": [],
   "source": [
    "# helper function to create table entries from GeoDataFrame\n",
    "def insert_edu(session, x):\n",
    "\n",
    "    row = EducationalFacility( \n",
    "                index = x.Index,\n",
    "                Facility_Name = x.Facility_Name.strip(),\n",
    "                Full_Addr = x.Full_Addr.strip(),   \n",
    "                Unit = x.Unit.strip(),      \n",
    "                Street_No = x.Street_No.strip(),   \n",
    "                Street_Name = x.Street_Name.strip(),\n",
    "                City = x.City.strip(),           \n",
    "                Prov_Terr = x.Prov_Terr.strip(),    \n",
    "                Postal_Code = x.Postal_Code.strip(),\n",
    "                geometry = 'POINT(%s %s)' % (x.Longitude, x.Latitude)\n",
    "                )\n",
    "\n",
    "\n",
    "    session.add(row)\n",
    "\n",
    "\n",
    "session.rollback()\n",
    "\n",
    "df.apply(lambda x: insert_edu(session, x), axis=1)\n",
    "\n",
    "# commit changes\n",
    "session.commit()"
   ]
  },
  {
   "cell_type": "markdown",
   "id": "76b68d60",
   "metadata": {},
   "source": [
    "## Query"
   ]
  },
  {
   "cell_type": "code",
   "execution_count": null,
   "id": "de631e49",
   "metadata": {},
   "outputs": [],
   "source": [
    "# Get all schools\n",
    "school_list = session.query(EducationalFacility).order_by(EducationalFacility.Facility_Name).all()\n",
    "\n",
    "for i in school_list[:10]:\n",
    "    print(i.Facility_Name, i.Full_Addr, i.CSD.CSDUID, i.CSD.name)\n"
   ]
  }
 ],
 "metadata": {
  "kernelspec": {
   "display_name": "Python 3.7.9 64-bit",
   "language": "python",
   "name": "python3"
  },
  "language_info": {
   "codemirror_mode": {
    "name": "ipython",
    "version": 3
   },
   "file_extension": ".py",
   "mimetype": "text/x-python",
   "name": "python",
   "nbconvert_exporter": "python",
   "pygments_lexer": "ipython3",
   "version": "3.7.9"
  },
  "vscode": {
   "interpreter": {
    "hash": "eb4cdb330c5ea7232880705c0e79ad22649a7c708042624124f8ff95c4dc218f"
   }
  }
 },
 "nbformat": 4,
 "nbformat_minor": 5
}
