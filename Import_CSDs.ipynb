{
 "cells": [
  {
   "attachments": {},
   "cell_type": "markdown",
   "id": "84e12610",
   "metadata": {},
   "source": [
    "# GeoAlchemy2 ORM Test -- Import CSDs\n",
    "\n",
    "Source: [https://geoalchemy-2.readthedocs.io/en/latest/orm_tutorial.html](https://geoalchemy-2.readthedocs.io/en/latest/orm_tutorial.html)"
   ]
  },
  {
   "cell_type": "code",
   "execution_count": null,
   "id": "b6ab2b97",
   "metadata": {},
   "outputs": [],
   "source": [
    "# read configuration\n",
    "import psycopg2, yaml\n",
    "\n",
    "with open(\"config.yaml\", \"r\") as f:\n",
    "    config = yaml.safe_load(f)\n",
    "\n",
    "#conn_string = \"host=%(SERVER)s user=%(USERNAME)s dbname=%(DATABASE)s password=%(PASSWORD)s sslmode=%(SSLMODE)s\" % config\n",
    "#conn = psycopg2.connect(conn_string) \n",
    "#print(\"Connection established\")\n",
    "\n",
    "\n",
    "# Some psycopg2 intialization\n",
    "\n",
    "from register_adapters import register_adapters\n",
    "\n",
    "register_adapters()"
   ]
  },
  {
   "attachments": {},
   "cell_type": "markdown",
   "id": "96438dbe",
   "metadata": {},
   "source": [
    "## Connect to the DB"
   ]
  },
  {
   "cell_type": "code",
   "execution_count": null,
   "id": "40b4f818",
   "metadata": {},
   "outputs": [],
   "source": [
    "from sqlalchemy import create_engine\n",
    "\n",
    "engine = create_engine(\n",
    "    \"postgresql+psycopg2://%(USERNAME)s:%(PASSWORD)s@%(SERVER)s/%(DATABASE)s?sslmode=%(SSLMODE)s\" % config,\n",
    "    client_encoding=\"utf8\", \n",
    "    echo=True\n",
    ")"
   ]
  },
  {
   "attachments": {},
   "cell_type": "markdown",
   "id": "13b1a384",
   "metadata": {},
   "source": [
    "## Declare a Mapping\n",
    "\n",
    "We will try to map the CSD digital boundary files "
   ]
  },
  {
   "cell_type": "code",
   "execution_count": null,
   "id": "079aa064",
   "metadata": {},
   "outputs": [],
   "source": [
    "import sys, os\n",
    "sys.path.insert(0, os.path.join(os.path.abspath(\"\"), \"models\"))\n",
    "\n",
    "from models import CensusSubDivision\n"
   ]
  },
  {
   "cell_type": "markdown",
   "id": "3e33efbb",
   "metadata": {},
   "source": [
    "## Create the Table in the Database"
   ]
  },
  {
   "cell_type": "code",
   "execution_count": null,
   "id": "9cf144e5",
   "metadata": {},
   "outputs": [],
   "source": [
    "try:\n",
    "    CensusSubDivision.__table__.drop(engine)\n",
    "except:\n",
    "    pass\n",
    "\n",
    "CensusSubDivision.__table__.create(engine)"
   ]
  },
  {
   "cell_type": "code",
   "execution_count": null,
   "id": "6753bf86",
   "metadata": {},
   "outputs": [],
   "source": [
    "import geopandas as gpd\n",
    "import os\n",
    "\n",
    "# import the 2021 Digital Boundary File\n",
    "csd_dbf = gpd.read_file(os.path.join(os.path.abspath(\"\"), \"data\", \"lcsd000a21a_e.zip\"))\n",
    "\n",
    "# project to lat/lon\n",
    "\n",
    "csd_dbf = csd_dbf.to_crs(\"epsg:4326\")\n",
    "\n",
    "csd_dbf[\"CSDUID\"] = csd_dbf[\"CSDUID\"].astype(int) \n",
    "csd_dbf[\"PRUID\"]  = csd_dbf[\"PRUID\"].astype(int)\n",
    "csd_dbf[\"LANDAREA\"]  = csd_dbf[\"LANDAREA\"].astype(float)\n",
    "\n",
    "csd_dbf"
   ]
  },
  {
   "cell_type": "code",
   "execution_count": null,
   "id": "36cf21d6",
   "metadata": {},
   "outputs": [],
   "source": [
    "csd_dbf.info()"
   ]
  },
  {
   "cell_type": "markdown",
   "id": "872c6259",
   "metadata": {},
   "source": [
    "## Create a Session"
   ]
  },
  {
   "cell_type": "code",
   "execution_count": null,
   "id": "41529320",
   "metadata": {},
   "outputs": [],
   "source": [
    "from sqlalchemy.orm import sessionmaker\n",
    "\n",
    "Session = sessionmaker(bind=engine)\n",
    "\n",
    "session = Session()\n"
   ]
  },
  {
   "cell_type": "code",
   "execution_count": null,
   "id": "5174fbbd",
   "metadata": {},
   "outputs": [],
   "source": [
    "# helper function to create table entries from GeoDataFrame\n",
    "def insert_csd(session, x):\n",
    "    row = CensusSubDivision( DGUID    = x[\"DGUID\"],     \n",
    "                CSDUID   = x[\"CSDUID\"],\n",
    "                name  = x[\"CSDNAME\"], \n",
    "                type  = x[\"CSDTYPE\"],\n",
    "                geometry = x[\"geometry\"].wkt\n",
    "                )\n",
    "\n",
    "    session.add(row)\n",
    "\n",
    "\n",
    "csd_dbf.apply(lambda x: insert_csd(session, x), axis=1)\n",
    "\n",
    "# commit changes\n",
    "session.commit()"
   ]
  },
  {
   "cell_type": "markdown",
   "id": "76b68d60",
   "metadata": {},
   "source": [
    "## Query"
   ]
  },
  {
   "cell_type": "code",
   "execution_count": null,
   "id": "de631e49",
   "metadata": {},
   "outputs": [],
   "source": [
    "# Get all reserve CSDs \n",
    "csd_list = session.query(CensusSubDivision).order_by(CensusSubDivision.name).where(CensusSubDivision.type==\"IRI\").all()\n",
    "\n",
    "for i in csd_list:\n",
    "    print(i.name)\n"
   ]
  }
 ],
 "metadata": {
  "kernelspec": {
   "display_name": "Python 3.7.9 64-bit",
   "language": "python",
   "name": "python3"
  },
  "language_info": {
   "codemirror_mode": {
    "name": "ipython",
    "version": 3
   },
   "file_extension": ".py",
   "mimetype": "text/x-python",
   "name": "python",
   "nbconvert_exporter": "python",
   "pygments_lexer": "ipython3",
   "version": "3.7.9"
  },
  "vscode": {
   "interpreter": {
    "hash": "eb4cdb330c5ea7232880705c0e79ad22649a7c708042624124f8ff95c4dc218f"
   }
  }
 },
 "nbformat": 4,
 "nbformat_minor": 5
}
